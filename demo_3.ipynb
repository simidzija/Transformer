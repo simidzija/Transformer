{
 "cells": [
  {
   "cell_type": "markdown",
   "metadata": {},
   "source": [
    "# Demo 3: Beatles lyrics"
   ]
  },
  {
   "cell_type": "markdown",
   "metadata": {},
   "source": [
    "In this demo we will train a decoder-only transformer to generate lyrics in the style of The Beatles.\n",
    "We will do this by training it on a corpus consisting of Beatles lyrics."
   ]
  },
  {
   "cell_type": "code",
   "execution_count": null,
   "metadata": {},
   "outputs": [],
   "source": [
    "import os\n",
    "import sys\n",
    "import matplotlib.pyplot as plt\n",
    "from IPython.display import clear_output\n",
    "import torch\n",
    "from torch.utils.data import DataLoader\n",
    "\n",
    "# set to true if working in google colab\n",
    "colab = False\n",
    "\n",
    "if colab:\n",
    "    from google.colab import drive\n",
    "    drive.mount('/content/drive')\n",
    "    root_dir = '/content/drive/MyDrive/Projects/Transformer'\n",
    "    sys.path.append(root_dir)\n",
    "else:\n",
    "    root_dir = os.getcwd()\n",
    "\n",
    "# custom imports\n",
    "from transformer import layers\n",
    "from transformer.layers import Transformer\n",
    "from transformer.nlp import Vocab, TokenizedDataset, InferenceSampler\n",
    "\n",
    "# set device\n",
    "device = torch.device('cuda:0' if torch.cuda.is_available() else 'cpu')\n",
    "print(f'Device is {device}')"
   ]
  },
  {
   "cell_type": "markdown",
   "metadata": {},
   "source": [
    "We use the custom Vocab class to load the text corpus and initialize the vocabulary according to this corpus. We will utilize a subword tokenization scheme in which we split the corpus at boundaries between word and non-word characters. The Vocab class provides useful methods for converting strings to tokens and vice versa. "
   ]
  },
  {
   "cell_type": "code",
   "execution_count": 20,
   "metadata": {},
   "outputs": [],
   "source": [
    "filepath = os.path.join(root_dir, 'data', 'short.txt')\n",
    "\n",
    "# pattern matching boundary between word and non-word characters\n",
    "pattern = r'\\b'\n",
    "\n",
    "vocab = Vocab(filepath, pattern)"
   ]
  },
  {
   "cell_type": "markdown",
   "metadata": {},
   "source": [
    "We can now use the vocab to tokenize the corpus, using the method `tokenize_from_file`:"
   ]
  },
  {
   "cell_type": "code",
   "execution_count": 21,
   "metadata": {},
   "outputs": [
    {
     "name": "stdout",
     "output_type": "stream",
     "text": [
      "Length of corpus: 151 tokens\n"
     ]
    }
   ],
   "source": [
    "corpus = vocab.tokenize_from_file(filepath)  # list\n",
    "corpus = torch.tensor(corpus, dtype=torch.long, device=device)  # tensor\n",
    "\n",
    "print(f'Length of corpus: {len(corpus)} tokens')"
   ]
  },
  {
   "cell_type": "markdown",
   "metadata": {},
   "source": [
    "Let's split our corpus so that 95% goes into the training set and 5% into the test set. We use the custom class TokenizedDataset to define the dataset. This class creates training examples consisting of (input, target) pairs, where input is the same token sequence as target but right shifted by one position."
   ]
  },
  {
   "cell_type": "code",
   "execution_count": 22,
   "metadata": {},
   "outputs": [
    {
     "name": "stdout",
     "output_type": "stream",
     "text": [
      "Train loader: 3 batches of size 52\n",
      "Test loader: 1 batches of size 52\n"
     ]
    }
   ],
   "source": [
    "context_window = 4\n",
    "batch_size = 52\n",
    "\n",
    "train_corpus = corpus[:round(0.95 * len(corpus))]\n",
    "test_corpus = corpus[round(0.95 * len(corpus)):]\n",
    "\n",
    "\n",
    "train_set = TokenizedDataset(train_corpus, context_window, device)\n",
    "test_set = TokenizedDataset(test_corpus, context_window, device)\n",
    "\n",
    "train_loader = DataLoader(train_set, batch_size, shuffle=True)\n",
    "test_loader = DataLoader(test_set, batch_size, shuffle=True)\n",
    "\n",
    "print(f'Train loader: {len(train_loader)} batches of size {batch_size}')\n",
    "print(f'Test loader: {len(test_loader)} batches of size {batch_size}')"
   ]
  },
  {
   "cell_type": "markdown",
   "metadata": {},
   "source": [
    "Next we define the decoder-only transformer. It consists of the following layers:\n",
    "- embedding and positional encoding\n",
    "- decoder stack\n",
    "- linear (de-embedding) layer\n",
    "- softmax\n",
    "\n",
    "Each decoder in the decoder stack consists of a masked multihead attention layer followed by a position-wise fully connected two-layer feed forward neural network."
   ]
  },
  {
   "cell_type": "code",
   "execution_count": 43,
   "metadata": {},
   "outputs": [],
   "source": [
    "model = Transformer(\n",
    "    vocab=len(vocab),\n",
    "    n_pe=10000,\n",
    "    d_model=32,\n",
    "    num_heads=8,\n",
    "    num_stacks=1,\n",
    "    d_ff=32 * 4,\n",
    "    dropout=0.1\n",
    ").to(device)"
   ]
  },
  {
   "cell_type": "markdown",
   "metadata": {},
   "source": [
    "Let's see how the untrained model performs. To do this we first define an InferenceSampler object using the model and vocab. The custom InferenceSampler class provides methods for autoregressively generating outputs given a prompt, according to different sampling strategies."
   ]
  },
  {
   "cell_type": "code",
   "execution_count": null,
   "metadata": {},
   "outputs": [],
   "source": [
    "sampler = InferenceSampler(model, vocab, context_window, device)"
   ]
  },
  {
   "cell_type": "markdown",
   "metadata": {},
   "source": [
    "The sampler allows for three sampling methods: greedy sampling, top_p sampling, and beam search. For example, greedy sampling simply outputs the most next token, given the previous tokens. Let's consider the input prompt 'You and me baby'. Greedy sampling gives the following output:"
   ]
  },
  {
   "cell_type": "code",
   "execution_count": null,
   "metadata": {},
   "outputs": [],
   "source": [
    "prompt = 'You and me baby'\n",
    "output = sampler.greedy(prompt)\n",
    "print(output)"
   ]
  },
  {
   "cell_type": "markdown",
   "metadata": {},
   "source": [
    "Unsurprisingly the untrained transformer's output doesn't make any sense. \n",
    "\n",
    "Now let's define the testing and training loops. We will use a cross entropy loss function and an Adam optimizer."
   ]
  },
  {
   "cell_type": "code",
   "execution_count": 44,
   "metadata": {},
   "outputs": [
    {
     "name": "stdout",
     "output_type": "stream",
     "text": [
      "Batch 1146: Loss = 0.498\n"
     ]
    }
   ],
   "source": [
    "cost_fn = layers.CrossEntropyLoss(swap_dims=True)\n",
    "optim = torch.optim.Adam(model.parameters(), lr=6e-4)\n",
    "\n",
    "def test(model, batches):\n",
    "    model.eval()\n",
    "    with torch.no_grad():\n",
    "        total_loss = 0\n",
    "        batch = 0\n",
    "        for input, target in test_loader:\n",
    "            if batch >= batches: break\n",
    "            output = model(input)\n",
    "            total_loss += cost_fn(output, target)\n",
    "            batch += 1\n",
    "\n",
    "    model.train()\n",
    "\n",
    "    # return average loss\n",
    "    return total_loss.item() / batches\n",
    "\n",
    "def train(model):\n",
    "\n",
    "    train_losses = []\n",
    "    test_losses = []\n",
    "\n",
    "    batch = 0\n",
    "    loss = float('inf')\n",
    "\n",
    "    def save(model, batch):\n",
    "        path = os.path.join(root_dir, 'checkpoints', f'batch{batch}.pt')\n",
    "        torch.save(model.state_dict(), path)\n",
    "\n",
    "    while True:\n",
    "\n",
    "        for input, target in train_loader:\n",
    "\n",
    "            if loss < 0.5: \n",
    "                save(model, batch)\n",
    "                return train_losses, test_losses\n",
    "\n",
    "            # output\n",
    "            output = model(input)\n",
    "\n",
    "            # loss\n",
    "            loss = cost_fn(output, target)\n",
    "            train_losses.append((batch, loss.item()))\n",
    "\n",
    "            # backprop\n",
    "            optim.zero_grad()\n",
    "            loss.backward()\n",
    "            torch.nn.utils.clip_grad_norm_(model.parameters(), 1)\n",
    "\n",
    "            # step\n",
    "            optim.step()\n",
    "\n",
    "            # test \n",
    "            if batch % 10 == 0:\n",
    "                test_loss = test(model, 1)\n",
    "                test_losses.append((batch, test_loss))\n",
    "\n",
    "            # save checkpoint\n",
    "            if batch % 50 == 0:\n",
    "                save(model, batch)\n",
    "            \n",
    "            # print progress\n",
    "            clear_output(wait=True)\n",
    "            print(f'Batch {batch}: Loss = {loss.item():.3}')\n",
    "\n",
    "            batch += 1\n",
    "\n",
    "train_losses, test_losses = train(model)"
   ]
  },
  {
   "cell_type": "code",
   "execution_count": 45,
   "metadata": {},
   "outputs": [
    {
     "data": {
      "image/png": "[encoded data removed]",
      "text/plain": [
       "<Figure size 640x480 with 1 Axes>"
      ]
     },
     "metadata": {},
     "output_type": "display_data"
    }
   ],
   "source": [
    "fig, ax = plt.subplots()\n",
    "\n",
    "# train loss\n",
    "x, y = zip(*train_losses)\n",
    "ax.plot(x, y, label='train loss')\n",
    "\n",
    "# test loss\n",
    "x, y = zip(*test_losses)\n",
    "ax.plot(x, y, label='test loss')\n",
    "\n",
    "ax.set_xlabel('batch')\n",
    "ax.set_title('Average cross entropy loss')\n",
    "ax.legend()\n",
    "plt.show()"
   ]
  },
  {
   "cell_type": "code",
   "execution_count": null,
   "metadata": {},
   "outputs": [],
   "source": [
    "prompt = 'You'\n",
    "output = sampler.greedy(prompt)\n",
    "print(output)"
   ]
  },
  {
   "cell_type": "code",
   "execution_count": null,
   "metadata": {},
   "outputs": [],
   "source": [
    "output = sampler.beam_search(prompt, 10)\n",
    "print(output)"
   ]
  }
 ],
 "metadata": {
  "kernelspec": {
   "display_name": "torch",
   "language": "python",
   "name": "python3"
  },
  "language_info": {
   "codemirror_mode": {
    "name": "ipython",
    "version": 3
   },
   "file_extension": ".py",
   "mimetype": "text/x-python",
   "name": "python",
   "nbconvert_exporter": "python",
   "pygments_lexer": "ipython3",
   "version": "3.11.4"
  }
 },
 "nbformat": 4,
 "nbformat_minor": 2
}
